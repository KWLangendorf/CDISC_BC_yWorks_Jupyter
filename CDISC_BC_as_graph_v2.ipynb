{
 "cells": [
  {
   "cell_type": "markdown",
   "metadata": {},
   "source": [
    "####  Provide your CDISc Library API key"
   ]
  },
  {
   "cell_type": "code",
   "execution_count": null,
   "metadata": {},
   "outputs": [],
   "source": [
    "#API_KEY='xxxxxxxxxxxxxxxxxxxxxxxxxxxxxxxx'"
   ]
  },
  {
   "cell_type": "code",
   "execution_count": 2,
   "metadata": {},
   "outputs": [],
   "source": [
    "import os\n",
    "import requests\n",
    "import json\n",
    "import getpass\n",
    "\n",
    "baseURL = \"https://library.cdisc.org/api\"\n",
    "\n",
    "def query(queryEndpoint = \"\", queryPath = \"\"):\n",
    "    resp = requests.get(\n",
    "        baseURL + queryEndpoint + queryPath, \n",
    "        headers={\n",
    "            'api-key': API_KEY, \n",
    "            'Accept': 'application/json'}\n",
    "    )\n",
    "    #print(resp.status_code)\n",
    "    if resp.status_code == 200:\n",
    "        return resp.json()       \n"
   ]
  },
  {
   "cell_type": "code",
   "execution_count": 3,
   "metadata": {},
   "outputs": [],
   "source": [
    "#resp = query(\"/mdr/bc/packages\")\n",
    "resp = query(\"/mdr/bc/packages/2022-10-26/biomedicalconcepts\")\n",
    "resp_sdtm = query(\"/mdr/specializations/sdtm/packages/2022-10-26/datasetspecializations\")"
   ]
  },
  {
   "cell_type": "code",
   "execution_count": 4,
   "metadata": {},
   "outputs": [],
   "source": [
    "#for getting the detailed sdtm specialisations from API - need the name of the BC specialisation from the list\n",
    "bcs_sdtm = []\n",
    "for bc in resp_sdtm['_links']['datasetSpecializations']:\n",
    "    name= bc.get(\"title\") \n",
    "    ref = bc.get('href')\n",
    "    ref_f=int(ref.rindex('/'))+1\n",
    "    ref_t=int(len(ref))\n",
    "    bc_sdtm_name=ref[ref_f:ref_t ]\n",
    "    map = dict({\n",
    "        'name':name,\n",
    "        'term':bc_sdtm_name\n",
    "        })\n",
    "    bcs_sdtm.append(map)"
   ]
  },
  {
   "cell_type": "code",
   "execution_count": 5,
   "metadata": {},
   "outputs": [
    {
     "name": "stdout",
     "output_type": "stream",
     "text": [
      "Done\n"
     ]
    }
   ],
   "source": [
    "#get all SDTM specialisations with details\n",
    "resp_sdtm = []\n",
    "for bc in bcs_sdtm:\n",
    "    term = bc['term']\n",
    "    responses = query('/mdr/specializations/sdtm/packages/2022-10-26/datasetspecializations/'+term)\n",
    "    resp_sdtm.append(responses)\n",
    "print('Done')"
   ]
  },
  {
   "cell_type": "code",
   "execution_count": 6,
   "metadata": {},
   "outputs": [],
   "source": [
    "#get code of all bc concepts from list of BC concepts - to be used in UI box\n",
    "bcs = []\n",
    "for bc in resp['_links']['biomedicalConcepts']:\n",
    "    name= bc.get(\"title\") \n",
    "    ref = bc.get('href')\n",
    "    ref_f=int(ref.rindex('/'))+1\n",
    "    ref_t=int(len(ref))\n",
    "    bc_code=ref[ref_f:ref_t]\n",
    "    map = dict({\n",
    "        'name':name,\n",
    "        'code':bc_code\n",
    "        })\n",
    "    bcs.append(map)\n",
    "#print(bcs)"
   ]
  },
  {
   "cell_type": "code",
   "execution_count": 7,
   "metadata": {},
   "outputs": [
    {
     "name": "stdout",
     "output_type": "stream",
     "text": [
      "Number of BC saved: 2\n",
      "Selection of BCs: \n",
      "{'name': 'Glucose Measurement', 'code': 'C105585'}\n",
      "{'name': 'Chemistry Test', 'code': 'C49237'}\n",
      "Number of BC SDTM specialisations saved: 4\n",
      "{'name': 'Glucose Concentration in Blood', 'code': 'GLUCBLD', 'parent code': 'C105585'}\n",
      "{'name': 'Glucose Concentration in Plasma', 'code': 'GLUCPL', 'parent code': 'C105585'}\n",
      "{'name': 'Glucose Concentration in Serum', 'code': 'GLUCSER', 'parent code': 'C105585'}\n",
      "{'name': 'Glucose Concentration in Urine', 'code': 'GLUCURIN', 'parent code': 'C105585'}\n"
     ]
    }
   ],
   "source": [
    "#UI for selecting BCs to display in graph view\n",
    "import sys\n",
    "import tkinter as tk\n",
    "from tkinter import *\n",
    "from tkinter import messagebox\n",
    "import yaml\n",
    "\n",
    "\n",
    "def resetAll():\n",
    "    app.destroy()\n",
    "    app = Tk()\n",
    "\n",
    "def get_code_from_href(href):\n",
    "    ref=href\n",
    "    ref_f=int(ref.rindex('/'))+1\n",
    "    ref_t=int(len(ref))\n",
    "    code=ref[ref_f:ref_t]\n",
    "    return code\n",
    "\n",
    "def save_selected():\n",
    "    global bc_lst_var\n",
    "    bc_lst_var = [box.get(idx) for idx in box.curselection()]\n",
    "    \n",
    "    global bc_sdtm_lst\n",
    "    bc_sdtm_lst = []\n",
    "    if (var1.get() == 1):\n",
    "        l.config(text='Adding SDTM specialisation')\n",
    "        for bc in bc_lst_var:\n",
    "            b = yaml.safe_load(bc)\n",
    "            bc_concept_code = b['code']\n",
    "            for bc_sdtm in resp_sdtm:\n",
    "                bc_parent_code = get_code_from_href(bc_sdtm['_links']['parentBiomedicalConcept']['href'])\n",
    "                if bc_concept_code == bc_parent_code:\n",
    "                    bc_sdtm_lst.append(bc_sdtm)                  \n",
    "    else:\n",
    "        l.config(text='Only show concepts')\n",
    "        \n",
    "    print('Number of BC saved: '+str(len(bc_lst_var)))\n",
    "    print('Selection of BCs: ')\n",
    "    for bc in bc_lst_var:\n",
    "        print(bc)\n",
    "    \n",
    "    if (var1.get() == 1):\n",
    "        if (len(bc_sdtm_lst)>0):\n",
    "            print('Number of BC SDTM specialisations saved: '+str(len(bc_sdtm_lst)))\n",
    "            for bc_sdtm in bc_sdtm_lst:\n",
    "                bc_parent_code = get_code_from_href(bc_sdtm['_links']['parentBiomedicalConcept']['href'])\n",
    "                print({'name':bc_sdtm['shortName'],'code':bc_sdtm['datasetSpecializationId'], 'parent code': bc_parent_code})\n",
    "        else:\n",
    "            print('No BC SDTM specialisation exists')\n",
    "    \n",
    "    messagebox.showinfo('Save', 'The selected BCs have been saved for graphical display. Number of BC saved: '+str(len(bc_lst_var)))\n",
    "    \n",
    "    #Doesn't work on mac\n",
    "    #app.destroy()\n",
    "    \n",
    "    \n",
    "app = tk.Tk()\n",
    "var1 = tk.IntVar()\n",
    "\n",
    "l = tk.Label(app, bg='white', width=20, text='Only show concepts')\n",
    "l.pack()\n",
    "\n",
    "app.title('Select BC to inlcude in visualisation')\n",
    "\n",
    "box = tk.Listbox(app, selectmode=tk.MULTIPLE, height=30,width= 100)\n",
    "\n",
    "values = bcs\n",
    "\n",
    "for val in values:\n",
    "    box.insert(tk.END, val)\n",
    "box.pack()\n",
    "\n",
    "button = tk.Button(app, text='Save selection', width=25, command=save_selected)\n",
    "button.pack()\n",
    "\n",
    "button = tk.Checkbutton(app, text='Add SDTM specialisation',variable=var1, onvalue=1, offvalue=0)\n",
    "button.pack()\n",
    "\n",
    "button = tk.Button(app, text='Clear Selection',\n",
    "                         command=lambda: box.selection_clear(0, 'end'))\n",
    "button.pack()\n",
    "\n",
    "m = tk.Label(app, bg='white', width=50, text='To close the window click on the x on the window')\n",
    "m.pack()\n",
    "\n",
    "#button = tk.Button(app, text='Close', width=25, command=app.destroy)\n",
    "#button.pack()\n",
    "\n",
    "app.mainloop()\n"
   ]
  },
  {
   "cell_type": "code",
   "execution_count": 20,
   "metadata": {
    "scrolled": true
   },
   "outputs": [
    {
     "name": "stdout",
     "output_type": "stream",
     "text": [
      "Done\n"
     ]
    }
   ],
   "source": [
    "#get the bc concepts selected\n",
    "import yaml\n",
    "resp = []\n",
    "for bc in bc_lst_var:\n",
    "    #To get bc's as a dictionary not a string - so we can use b['code'] to get the code.\n",
    "    b = yaml.safe_load(bc)\n",
    "    code = b['code']\n",
    "    responses = query(\"/mdr/bc/packages/2022-10-26/biomedicalconcepts/\"+code)\n",
    "    resp.append(responses)\n",
    "print('Done')"
   ]
  },
  {
   "cell_type": "code",
   "execution_count": 21,
   "metadata": {},
   "outputs": [],
   "source": [
    "from yfiles_jupyter_graphs import GraphWidget\n",
    "w = GraphWidget()"
   ]
  },
  {
   "cell_type": "code",
   "execution_count": 50,
   "metadata": {},
   "outputs": [],
   "source": [
    "#Making nodes and edges from the BCs (and BC sdtm specialisation if chosen in the UI)\n",
    "from typing import Union, List, Dict\n",
    "from itertools import chain\n",
    "\n",
    "def custom_node_styles_mapping(index: int, node: Dict):\n",
    "    return {'shape':'pill',}\n",
    "\n",
    "def make_y_nodes(o:Union[List, Dict]) -> List:\n",
    "    if isinstance(o, dict):\n",
    "        o = [dict]\n",
    "    return [{\n",
    "        \"id\": x.get(\"href\"), \n",
    "        \"properties\": {**x, **{'label': (x.get(\"shortName\") if x.get(\"shortName\") else x.get(\"title\"))}}\n",
    "    } for x in o]\n",
    "\n",
    "def make_y_sdtm_nodes(o:Union[List, Dict]) -> List:\n",
    "    if isinstance(o, dict):\n",
    "        o = [dict]\n",
    "    return [{\n",
    "        \"id\": x.get('_links').get('self').get(\"href\"), \n",
    "        \"properties\": {**{k: item for k, item in x.items() if not k in [\"_links\"]},**x.get('_links').get('self'), **{'label': (x.get(\"shortName\") if x.get(\"shortName\") else x.get(\"title\"))}}\n",
    "    } for x in o]\n",
    "\n",
    "\n",
    "def make_y_nodes_items(o:Union[List, Dict]) -> List:\n",
    "    if isinstance(o, dict):\n",
    "        o = [dict]\n",
    "    return [{\n",
    "        \"id\": x.get(\"href\")+'?'+self_.get(\"shortName\"), \n",
    "        \"properties\": {**x, **{'label': (x.get(\"shortName\") if x.get(\"shortName\") else x.get(\"title\"))}}\n",
    "    } for x in o]\n",
    "\n",
    "\n",
    "def make_y_nodes_sdtm_vars(o:Union[List, Dict]) -> List:\n",
    "    if isinstance(o, dict):\n",
    "        o = [dict]\n",
    "    return [{\n",
    "        \"id\": x.get(\"name\")+'?'+self_.get(\"shortName\"), \n",
    "        \"properties\": {**x, **{'label': (x.get(\"name\") if x.get(\"name\") else x.get(\"title\"))}}\n",
    "    } for x in o]\n",
    "\n",
    "def make_y_nodes_terms(o:Union[List, Dict]) -> List:\n",
    "    if isinstance(o, dict):\n",
    "        o = [dict]\n",
    "    return [{\n",
    "        \"id\": x.get(\"term\")+v.get(\"name\")+'?'+self_.get(\"shortName\"), \n",
    "        \"properties\": {**x, **{'label': x.get(\"term\")}}\n",
    "    } for x in o]\n",
    "\n",
    "\n",
    "n_list=[]\n",
    "e_list=[]\n",
    "bc_ref_list=[]\n",
    "\n",
    "#get the concept BC's and their items (children)\n",
    "for r in resp:\n",
    "    #print(r.get(\"_links\").get('self').get('title'))\n",
    "    self_ = {k: item for k, item in r.items() if not k in [\"_links\", \"dataElementConcepts\"]}\n",
    "    n = make_y_nodes([self_])\n",
    "    n_list.append(n) \n",
    "  \n",
    "    #Find the parent of the BC if, any. Note the parent ID. To be used in the loop below for parent nodes.\n",
    "    if r.get(\"dataElementConcepts\") is not None:\n",
    "        children = r.get(\"dataElementConcepts\")\n",
    " \n",
    "        n = make_y_nodes_items(children) \n",
    "        \n",
    "        n_list.append(n)\n",
    "        \n",
    "        e = ([{'id': i, 'start': self_.get(\"href\"), 'end': x.get(\"href\")+'?'+self_.get(\"shortName\"), 'properties': {'label': 'HAS_ITEM'}}\n",
    "              for i, x in enumerate(children)])\n",
    "        e_list.append(e)\n",
    "        if r.get(\"_links\").get('parentBiomedicalConcept') is not None:\n",
    "            p_ref=r.get(\"_links\").get('parentBiomedicalConcept').get('href')\n",
    "            ref_f=int(p_ref.rindex('/'))+1\n",
    "            ref_t=int(len(p_ref))\n",
    "            p_code=p_ref[ref_f:ref_t]\n",
    "            bc_p_href ='https://ncithesaurus.nci.nih.gov/ncitbrowser/ConceptReport.jsp?dictionary=NCI_Thesaurus&ns=ncit&code='+p_code\n",
    "            bc_href =r.get('href')\n",
    "            \n",
    "            #Making parent-child edges          \n",
    "            e=([{'id': -1, 'start': bc_p_href, 'end': bc_href, 'properties': {'label': 'HAS_CHILD'}}])\n",
    "            e_list.append(e)\n",
    "\n",
    "            \n",
    "if len(bc_sdtm_lst)>0:\n",
    "    for bc_sdtm in bc_sdtm_lst:\n",
    "        #print(r.get(\"_links\").get('self').get('title'))\n",
    "        self_ = {k: item for k, item in bc_sdtm.items() if not k in [\"variables\"]}\n",
    "\n",
    "        n = make_y_sdtm_nodes([self_])\n",
    "\n",
    "        n_list.append(n)\n",
    "\n",
    "    #Find the parent of the BC if, any. Note the parent ID. To be used in the loop below for parent nodes.\n",
    "        if bc_sdtm.get(\"variables\") is not None:\n",
    "            children = bc_sdtm.get(\"variables\")\n",
    "            \n",
    "            n = make_y_nodes_sdtm_vars(children)\n",
    "\n",
    "            n_list.append(n)\n",
    "\n",
    "            e = ([{'id': i, 'start': self_.get('_links').get('self').get(\"href\"), 'end': x.get(\"name\")+'?'+self_.get(\"shortName\"), 'properties': {'label': 'HAS_VARIABLE'}}\n",
    "                  for i, x in enumerate(children)])\n",
    "            e_list.append(e)\n",
    "        \n",
    "        # make nodes for terms\n",
    "            for v in bc_sdtm.get(\"variables\"):\n",
    "                t=[]\n",
    "                if v.get('assignedTerm') is not None:\n",
    "                    if v.get('codelist') is not None:\n",
    "                        terms = dict({'term':v.get('assignedTerm').get('value'),'codelist':v.get('codelist').get('href')})\n",
    "                        t.append(terms)\n",
    "                if v.get('valueList') is not None:\n",
    "                    if v.get('codelist') is not None:\n",
    "                        for i in v.get('valueList'):\n",
    "                            terms = dict({'term':i,'codelist':v.get('codelist').get('href')})\n",
    "                            t.append(terms)\n",
    "                        \n",
    "                n = make_y_nodes_terms(t)\n",
    "                \n",
    "                n_list.append(n)\n",
    "                                \n",
    "        #make edges for terms to their variables\n",
    "                e = ([{'id': i, 'start': v.get(\"name\")+'?'+self_.get(\"shortName\"), 'end': x.get(\"term\")+v.get(\"name\")+'?'+self_.get(\"shortName\"), 'properties': {'label': 'HAS_TERM'}} \n",
    "                      for i, x in enumerate(t)])\n",
    "            \n",
    "                e_list.append(e)\n",
    "\n",
    "            \n",
    "\n",
    "        if bc_sdtm.get(\"_links\").get('parentBiomedicalConcept') is not None:\n",
    "            p_ref=bc_sdtm.get(\"_links\").get('parentBiomedicalConcept').get('href')\n",
    "            ref_f=int(p_ref.rindex('/'))+1\n",
    "            ref_t=int(len(p_ref))\n",
    "            p_code=p_ref[ref_f:ref_t]\n",
    "            bc_p_href ='https://ncithesaurus.nci.nih.gov/ncitbrowser/ConceptReport.jsp?dictionary=NCI_Thesaurus&ns=ncit&code='+p_code\n",
    "            bc_href =bc_sdtm.get('_links').get('self').get(\"href\")\n",
    "\n",
    "            #Making parent-child edges          \n",
    "            e=([{'id': -1, 'start': bc_p_href, 'end': bc_href, 'properties': {'label': 'HAS_SDTM_SPECIALISATION'}}])\n",
    "\n",
    "\n",
    "            e_list.append(e)\n",
    "\n",
    "\n",
    "\n",
    "nodes = [n for node in n_list for n in node]\n",
    "nodes_uniq = list(\n",
    "   {\n",
    "       dictionary['id']: dictionary\n",
    "       for dictionary in nodes\n",
    "   }.values()\n",
    ")\n",
    "\n",
    "edges=[e for edge in e_list for e in edge]\n",
    "edges_uniq = list(\n",
    "    {\n",
    "        dictionary['id']: dictionary\n",
    "        for dictionary in edges\n",
    "    }.values()\n",
    ")\n",
    "\n",
    "\n",
    "\n",
    "w.nodes = nodes\n",
    "w.edges=edges\n",
    "w.directed = True\n",
    "\n",
    "#nodes and edges formatting\n",
    "\n",
    "w.node_styles_mapping=custom_node_styles_mapping\n",
    "w.set_node_label_mapping(lambda index, node : node[\"properties\"][\"label\"])\n",
    "w.set_node_color_mapping(lambda index, node : 'grey' if 'term' in node['properties'] else 'lightblue' if (('dataElementConceptId' in node['properties'])| ('assignedTerm' in node['properties'])| ('datasetSpecializationId' in node['properties'])) else '#F5B200')\n",
    "w.set_edge_color_mapping(lambda index, node  : '#122140')\n",
    "w.set_node_scale_factor_mapping(lambda index, node : 1.5)\n",
    "w.set_graph_layout({'algorithm': 'circular'})\n",
    "\n"
   ]
  },
  {
   "cell_type": "code",
   "execution_count": 51,
   "metadata": {
    "scrolled": false
   },
   "outputs": [
    {
     "data": {
      "application/vnd.jupyter.widget-view+json": {
       "model_id": "67b6b7af48334878b081db8f8387e8e7",
       "version_major": 2,
       "version_minor": 0
      },
      "text/plain": [
       "GraphWidget(layout=Layout(height='500px', width='100%'))"
      ]
     },
     "metadata": {},
     "output_type": "display_data"
    }
   ],
   "source": [
    "w.show()"
   ]
  },
  {
   "cell_type": "code",
   "execution_count": null,
   "metadata": {},
   "outputs": [],
   "source": [
    "#resets the formatting\n",
    "w.del_node_styles_mapping()"
   ]
  },
  {
   "cell_type": "code",
   "execution_count": null,
   "metadata": {},
   "outputs": [],
   "source": [
    "w.del_edge_color_mapping()"
   ]
  },
  {
   "cell_type": "code",
   "execution_count": null,
   "metadata": {},
   "outputs": [],
   "source": [
    "w.del_node_label_mapping()"
   ]
  },
  {
   "cell_type": "code",
   "execution_count": null,
   "metadata": {},
   "outputs": [],
   "source": [
    "w.del_node_color_mapping()"
   ]
  }
 ],
 "metadata": {
  "kernelspec": {
   "display_name": "Python 3 (ipykernel)",
   "language": "python",
   "name": "python3"
  },
  "language_info": {
   "codemirror_mode": {
    "name": "ipython",
    "version": 3
   },
   "file_extension": ".py",
   "mimetype": "text/x-python",
   "name": "python",
   "nbconvert_exporter": "python",
   "pygments_lexer": "ipython3",
   "version": "3.10.8"
  },
  "vscode": {
   "interpreter": {
    "hash": "f7454204b85bad87d422347f0420150e759c7f2a9083aa71902f668efa801db7"
   }
  }
 },
 "nbformat": 4,
 "nbformat_minor": 2
}
